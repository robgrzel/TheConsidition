{
 "cells": [
  {
   "cell_type": "code",
   "execution_count": 33,
   "metadata": {},
   "outputs": [
    {
     "data": {
      "image/png": "[encoded data removed]",
      "text/plain": [
       "<Figure size 1800x1080 with 1 Axes>"
      ]
     },
     "metadata": {
      "needs_background": "light"
     },
     "output_type": "display_data"
    }
   ],
   "source": [
    "import matplotlib.pyplot as plt\n",
    "import numpy as np\n",
    "\n",
    "\n",
    "def samplemat(dims):\n",
    "    \"\"\"Make a matrix with all zeros and increasing elements on the diagonal\"\"\"\n",
    "    aa = np.zeros(dims)\n",
    "    for i in range(min(dims)):\n",
    "        aa[i, i] = i\n",
    "    return aa\n",
    "\n",
    "fig, ax = plt.subplots(figsize=(25,15))\n",
    "\n",
    "# Display matrix\n",
    "ax.matshow(samplemat((25, 25)))\n",
    "\n",
    "plt.show()"
   ]
  },
  {
   "cell_type": "code",
   "execution_count": 44,
   "metadata": {},
   "outputs": [],
   "source": [
    "import matplotlib.pyplot as plt\n",
    "import numpy as np\n",
    "\n",
    "def plot_map_test():\n",
    "    fig, ax = plt.subplots(figsize=(25,15))\n",
    "    nrows, ncols = 100, 100\n",
    "\n",
    "    image = np.zeros(nrows*ncols)\n",
    "\n",
    "    # Set every other cell to a random number (this would be your data)\n",
    "    image[::2] = np.random.random(nrows*ncols //2)\n",
    "    image = image.reshape((nrows, ncols))\n",
    "\n",
    "    row_labels = range(ncols)\n",
    "    ax.matshow(image)\n",
    "    plt.show()\n",
    "\n",
    "def plot_map(image, legend):\n",
    "    fig, ax = plt.subplots(figsize=(25,15))\n",
    "    if image.shape[0] != 100:\n",
    "        image.shape = 100, 100\n",
    "    ax.matshow(image)\n",
    "    ppr(legend)\n",
    "    plt.show()"
   ]
  },
  {
   "cell_type": "code",
   "execution_count": 45,
   "metadata": {},
   "outputs": [
    {
     "name": "stdout",
     "output_type": "stream",
     "text": [
      "{'forest': 'purple',\n",
      " 'grass': 'green',\n",
      " 'road': 'dark blue',\n",
      " 'rockywater': 'purple',\n",
      " 'start': 'yellow',\n",
      " 'trail': 'light green',\n",
      " 'water': 'light blue',\n",
      " 'win': 'yellow'}\n"
     ]
    },
    {
     "data": {
      "image/png": "[encoded data removed]",
      "text/plain": [
       "<Figure size 1800x1080 with 1 Axes>"
      ]
     },
     "metadata": {
      "needs_background": "light"
     },
     "output_type": "display_data"
    }
   ],
   "source": [
    "import json\n",
    "from pprint import pprint as ppr\n",
    "\n",
    "with open('state.json', 'r') as statefile:\n",
    "    state = json.load(statefile)\n",
    "    \n",
    "\n",
    "gameId = state['gameId']\n",
    "gameStatus = state['gameStatus']\n",
    "\n",
    "turn = state['turn']\n",
    "yourPlayer = state['yourPlayer']\n",
    "otherPlayers = state['otherPlayers']\n",
    "tileInfo = state['tileInfo']\n",
    "\n",
    "class Player(object):\n",
    "    def __init__(self, activePowerups, apiKey,  lastTimeActive, lastTurnPlayed,  name, playedTurns, \n",
    "                 powerupInventory, stamina,  status, statusDuration, xPos, yPos): \n",
    "        self.name = name\n",
    "        self.apiKey = apiKey\n",
    "        self.playedTurns = playedTurns\n",
    "        self.lastTimeActive = lastTimeActive\n",
    "        self.lastTurnPlayed = lastTurnPlayed\n",
    "        self.activePowerups = activePowerups\n",
    "        self.powerupInventory = powerupInventory\n",
    "        self.statusDuration = statusDuration\n",
    "        self.stamina = stamina\n",
    "        self.status = status\n",
    "        self.xPos = xPos\n",
    "        self.yPos = yPos\n",
    "        \n",
    "        \n",
    "mapTerrain = np.zeros([100,100])\n",
    "terrainTypes = {'road':4, 'trail':22, 'grass':19, 'water':12, 'forest':0, 'rockywater':0, 'start':25, 'win':25}\n",
    "terrainLegend = {'road':'dark blue', 'trail':'light green', 'grass':'green', 'water':'light blue', \n",
    "                 'forest':'purple', 'rockywater':'purple', 'start':'yellow', 'win':'yellow'}\n",
    "  \n",
    "for i,row in enumerate(tileInfo):\n",
    "    for j,col in enumerate(row):\n",
    "        if len(col) == 1:\n",
    "            t = col['type']\n",
    "            mapTerrain[i,j] = terrainTypes[t]\n",
    "        else:\n",
    "            for k in col.keys():\n",
    "                if 'elevation':\n",
    "                    pass\n",
    "                \n",
    "plot_map (mapTerrain, terrainLegend)\n"
   ]
  },
  {
   "cell_type": "code",
   "execution_count": null,
   "metadata": {},
   "outputs": [],
   "source": []
  },
  {
   "cell_type": "code",
   "execution_count": 46,
   "metadata": {},
   "outputs": [
    {
     "name": "stdout",
     "output_type": "stream",
     "text": [
      "Vispy IPython module has loaded successfully"
     ]
    }
   ],
   "source": [
    "import numpy as np\n",
    "import vispy\n",
    "import vispy.gloo as gloo\n",
    "from vispy import app\n",
    "from vispy.util.transforms import perspective, translate, rotate\n",
    "\n",
    "# load the vispy bindings for the IPython notebook which enables webGL\n",
    "%load_ext vispy.ipython"
   ]
  },
  {
   "cell_type": "code",
   "execution_count": 47,
   "metadata": {},
   "outputs": [],
   "source": [
    "n = 100\n",
    "a_position = np.random.uniform(-1, 1, (n, 3)).astype(np.float32)\n",
    "a_id = np.random.randint(0, 30, (n, 1))\n",
    "a_id = np.sort(a_id, axis=0).astype(np.float32)"
   ]
  },
  {
   "cell_type": "code",
   "execution_count": 48,
   "metadata": {},
   "outputs": [],
   "source": [
    "VERT_SHADER = \"\"\"\n",
    "uniform mat4 u_model;\n",
    "uniform mat4 u_view;\n",
    "uniform mat4 u_projection;\n",
    "attribute vec3 a_position;\n",
    "attribute float a_id;\n",
    "varying float v_id;\n",
    "void main (void) {\n",
    "    v_id = a_id;\n",
    "    gl_Position = u_projection * u_view * u_model * vec4(a_position,1.0);\n",
    "}\n",
    "\"\"\"\n",
    "\n",
    "FRAG_SHADER = \"\"\"\n",
    "varying float v_id;\n",
    "void main()\n",
    "{\n",
    "    float f = fract(v_id);\n",
    "    // The second useless test is needed on OSX 10.8 (fuck)\n",
    "    if( (f > 0.0001) && (f < .9999) )\n",
    "        discard;\n",
    "    else\n",
    "        gl_FragColor = vec4(0,0,0,1);\n",
    "}\n",
    "\"\"\""
   ]
  },
  {
   "cell_type": "code",
   "execution_count": 49,
   "metadata": {},
   "outputs": [],
   "source": [
    "class Canvas(app.Canvas):\n",
    "\n",
    "    # ---------------------------------\n",
    "    def __init__(self, size=None):\n",
    "        app.Canvas.__init__(self, keys='interactive', size=size)\n",
    "\n",
    "        self.program = gloo.Program(VERT_SHADER, FRAG_SHADER)\n",
    "\n",
    "        # Set uniform and attribute\n",
    "        self.program['a_id'] = gloo.VertexBuffer(a_id)\n",
    "        self.program['a_position'] = gloo.VertexBuffer(a_position)\n",
    "\n",
    "        self.translate = 5\n",
    "        self.view = translate((0, 0, -self.translate), dtype=np.float32)\n",
    "        self.model = np.eye(4, dtype=np.float32)\n",
    "\n",
    "        gloo.set_viewport(0, 0, self.physical_size[0], self.physical_size[1])\n",
    "        self.projection = perspective(45.0, self.size[0] /\n",
    "                                      float(self.size[1]), 1.0, 1000.0)\n",
    "        self.program['u_projection'] = self.projection\n",
    "\n",
    "        self.program['u_model'] = self.model\n",
    "        self.program['u_view'] = self.view\n",
    "\n",
    "        self.theta = 0\n",
    "        self.phi = 0\n",
    "\n",
    "        self.context.set_clear_color('white')\n",
    "        self.context.set_state('translucent')\n",
    "\n",
    "        self.timer = app.Timer('auto', connect=self.on_timer, start=True)\n",
    "\n",
    "        self.show()\n",
    "\n",
    "    # ---------------------------------\n",
    "    def on_key_press(self, event):\n",
    "        if event.text == ' ':\n",
    "            if self.timer.running:\n",
    "                self.timer.stop()\n",
    "            else:\n",
    "                self.timer.start()\n",
    "\n",
    "    # ---------------------------------\n",
    "    def on_timer(self, event):\n",
    "        self.theta += .5\n",
    "        self.phi += .5\n",
    "        self.model = np.dot(rotate(self.theta, (0, 0, 1)),\n",
    "                            rotate(self.phi, (0, 1, 0)))\n",
    "        self.program['u_model'] = self.model\n",
    "        self.update()\n",
    "\n",
    "    # ---------------------------------\n",
    "    def on_resize(self, event):\n",
    "        gloo.set_viewport(0, 0, event.physical_size[0], event.physical_size[1])\n",
    "        self.projection = perspective(45.0, event.size[0] /\n",
    "                                      float(event.size[1]), 1.0, 1000.0)\n",
    "        self.program['u_projection'] = self.projection\n",
    "\n",
    "    # ---------------------------------\n",
    "    def on_mouse_wheel(self, event):\n",
    "        self.translate += event.delta[1]\n",
    "        self.translate = max(2, self.translate)\n",
    "        self.view = translate((0, 0, -self.translate))\n",
    "        self.program['u_view'] = self.view\n",
    "        self.update()\n",
    "\n",
    "    # ---------------------------------\n",
    "    def on_draw(self, event):\n",
    "        self.context.clear()\n",
    "        self.program.draw('line_strip')"
   ]
  },
  {
   "cell_type": "code",
   "execution_count": 52,
   "metadata": {},
   "outputs": [
    {
     "name": "stderr",
     "output_type": "stream",
     "text": [
      "WARNING: could not determine DPI\n"
     ]
    },
    {
     "name": "stdout",
     "output_type": "stream",
     "text": [
      "\n",
      "Can't open display localhost:10.0\n",
      "\n"
     ]
    },
    {
     "data": {
      "application/vnd.jupyter.widget-view+json": {
       "model_id": "57cf5c4ba02840838797be4367fc18d6",
       "version_major": 2,
       "version_minor": 0
      },
      "text/plain": [
       "VispyWidget(height=300, width=300)"
      ]
     },
     "metadata": {},
     "output_type": "display_data"
    }
   ],
   "source": [
    "c = Canvas(size=(300, 300))\n",
    "#or\n",
    "from vispy.app.backends.ipython import VispyWidget\n",
    "w = VispyWidget()\n",
    "w.set_canvas(c)\n",
    "#w"
   ]
  },
  {
   "cell_type": "code",
   "execution_count": null,
   "metadata": {},
   "outputs": [],
   "source": []
  }
 ],
 "metadata": {
  "kernelspec": {
   "display_name": "Python 3",
   "language": "python",
   "name": "python3"
  },
  "language_info": {
   "codemirror_mode": {
    "name": "ipython",
    "version": 3
   },
   "file_extension": ".py",
   "mimetype": "text/x-python",
   "name": "python",
   "nbconvert_exporter": "python",
   "pygments_lexer": "ipython3",
   "version": "3.6.6"
  }
 },
 "nbformat": 4,
 "nbformat_minor": 2
}
